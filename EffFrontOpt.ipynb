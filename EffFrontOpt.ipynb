{
 "cells": [
  {
   "cell_type": "markdown",
   "metadata": {},
   "source": [
    "# Downloading data\n"
   ]
  },
  {
   "cell_type": "code",
   "execution_count": 1,
   "metadata": {},
   "outputs": [],
   "source": [
    "import numpy as np\n",
    "import pandas as pd\n",
    "import matplotlib.pyplot as plt\n",
    "import yfinance as yf\n",
    "from tqdm import tqdm\n",
    "\n",
    "import seaborn as sns\n",
    "import matplotlib.pyplot as plt"
   ]
  },
  {
   "cell_type": "code",
   "execution_count": 2,
   "metadata": {},
   "outputs": [],
   "source": [
    "tickers = [\"SAF.PA\", \"ATO.PA\", \"MC.PA\", \"AIR.PA\", \"RNO.PA\", \"HO.PA\", \"ENGI.PA\", \"CS.PA\", \"ENR.DE\", \"TOT\", \"CA.PA\", \"SU.PA\", \"BN.PA\", \"SIEGY\", \"AI.PA\", \"ML.PA\", \"AM.PA\", \"ORA.PA\", \"^FCHI\"]\n",
    "period = \"2y\""
   ]
  },
  {
   "cell_type": "code",
   "execution_count": 3,
   "metadata": {},
   "outputs": [
    {
     "name": "stdout",
     "output_type": "stream",
     "text": [
      "[*********************100%***********************]  19 of 19 completed\n"
     ]
    },
    {
     "name": "stderr",
     "output_type": "stream",
     "text": [
      "C:\\Users\\D580656\\AppData\\Local\\Continuum\\anaconda3\\lib\\site-packages\\ipykernel_launcher.py:3: SettingWithCopyWarning: \n",
      "A value is trying to be set on a copy of a slice from a DataFrame.\n",
      "Try using .loc[row_indexer,col_indexer] = value instead\n",
      "\n",
      "See the caveats in the documentation: https://pandas.pydata.org/pandas-docs/stable/user_guide/indexing.html#returning-a-view-versus-a-copy\n",
      "  This is separate from the ipykernel package so we can avoid doing imports until\n"
     ]
    },
    {
     "data": {
      "text/html": [
       "<div>\n",
       "<style scoped>\n",
       "    .dataframe tbody tr th:only-of-type {\n",
       "        vertical-align: middle;\n",
       "    }\n",
       "\n",
       "    .dataframe tbody tr th {\n",
       "        vertical-align: top;\n",
       "    }\n",
       "\n",
       "    .dataframe thead th {\n",
       "        text-align: right;\n",
       "    }\n",
       "</style>\n",
       "<table border=\"1\" class=\"dataframe\">\n",
       "  <thead>\n",
       "    <tr style=\"text-align: right;\">\n",
       "      <th></th>\n",
       "      <th>AI.PA</th>\n",
       "      <th>AIR.PA</th>\n",
       "      <th>AM.PA</th>\n",
       "      <th>ATO.PA</th>\n",
       "      <th>BN.PA</th>\n",
       "      <th>CA.PA</th>\n",
       "      <th>CS.PA</th>\n",
       "      <th>ENGI.PA</th>\n",
       "      <th>ENR.DE</th>\n",
       "      <th>HO.PA</th>\n",
       "      <th>MC.PA</th>\n",
       "      <th>ML.PA</th>\n",
       "      <th>ORA.PA</th>\n",
       "      <th>RNO.PA</th>\n",
       "      <th>SAF.PA</th>\n",
       "      <th>SIEGY</th>\n",
       "      <th>SU.PA</th>\n",
       "      <th>TOT</th>\n",
       "      <th>CAC40</th>\n",
       "    </tr>\n",
       "    <tr>\n",
       "      <th>Date</th>\n",
       "      <th></th>\n",
       "      <th></th>\n",
       "      <th></th>\n",
       "      <th></th>\n",
       "      <th></th>\n",
       "      <th></th>\n",
       "      <th></th>\n",
       "      <th></th>\n",
       "      <th></th>\n",
       "      <th></th>\n",
       "      <th></th>\n",
       "      <th></th>\n",
       "      <th></th>\n",
       "      <th></th>\n",
       "      <th></th>\n",
       "      <th></th>\n",
       "      <th></th>\n",
       "      <th></th>\n",
       "      <th></th>\n",
       "    </tr>\n",
       "  </thead>\n",
       "  <tbody>\n",
       "    <tr>\n",
       "      <th>2020-12-29</th>\n",
       "      <td>135.850006</td>\n",
       "      <td>93.070000</td>\n",
       "      <td>907.5</td>\n",
       "      <td>75.760002</td>\n",
       "      <td>54.540001</td>\n",
       "      <td>14.345</td>\n",
       "      <td>19.736000</td>\n",
       "      <td>12.755</td>\n",
       "      <td>29.900000</td>\n",
       "      <td>76.320000</td>\n",
       "      <td>512.799988</td>\n",
       "      <td>106.300003</td>\n",
       "      <td>9.826</td>\n",
       "      <td>36.255001</td>\n",
       "      <td>120.500000</td>\n",
       "      <td>71.760002</td>\n",
       "      <td>120.650002</td>\n",
       "      <td>42.512001</td>\n",
       "      <td>55.234154</td>\n",
       "    </tr>\n",
       "    <tr>\n",
       "      <th>2020-12-30</th>\n",
       "      <td>135.300003</td>\n",
       "      <td>91.250000</td>\n",
       "      <td>895.0</td>\n",
       "      <td>75.339996</td>\n",
       "      <td>54.240002</td>\n",
       "      <td>14.245</td>\n",
       "      <td>19.676001</td>\n",
       "      <td>12.695</td>\n",
       "      <td>30.000000</td>\n",
       "      <td>75.440002</td>\n",
       "      <td>513.099976</td>\n",
       "      <td>106.050003</td>\n",
       "      <td>9.804</td>\n",
       "      <td>35.945000</td>\n",
       "      <td>119.000000</td>\n",
       "      <td>71.779999</td>\n",
       "      <td>120.849998</td>\n",
       "      <td>42.669998</td>\n",
       "      <td>55.112305</td>\n",
       "    </tr>\n",
       "    <tr>\n",
       "      <th>2020-12-31</th>\n",
       "      <td>134.250000</td>\n",
       "      <td>89.779999</td>\n",
       "      <td>897.0</td>\n",
       "      <td>74.779999</td>\n",
       "      <td>53.759998</td>\n",
       "      <td>14.030</td>\n",
       "      <td>19.511999</td>\n",
       "      <td>12.520</td>\n",
       "      <td>NaN</td>\n",
       "      <td>74.900002</td>\n",
       "      <td>510.899994</td>\n",
       "      <td>104.949997</td>\n",
       "      <td>9.734</td>\n",
       "      <td>35.759998</td>\n",
       "      <td>115.949997</td>\n",
       "      <td>71.790001</td>\n",
       "      <td>118.300003</td>\n",
       "      <td>41.910000</td>\n",
       "      <td>54.639864</td>\n",
       "    </tr>\n",
       "    <tr>\n",
       "      <th>2021-01-04</th>\n",
       "      <td>136.449997</td>\n",
       "      <td>89.889999</td>\n",
       "      <td>886.0</td>\n",
       "      <td>76.120003</td>\n",
       "      <td>54.400002</td>\n",
       "      <td>14.490</td>\n",
       "      <td>19.438000</td>\n",
       "      <td>12.805</td>\n",
       "      <td>30.129999</td>\n",
       "      <td>75.180000</td>\n",
       "      <td>512.099976</td>\n",
       "      <td>106.750000</td>\n",
       "      <td>9.950</td>\n",
       "      <td>35.759998</td>\n",
       "      <td>116.150002</td>\n",
       "      <td>71.820000</td>\n",
       "      <td>121.750000</td>\n",
       "      <td>42.380001</td>\n",
       "      <td>55.009448</td>\n",
       "    </tr>\n",
       "    <tr>\n",
       "      <th>2021-01-05</th>\n",
       "      <td>134.850006</td>\n",
       "      <td>88.970001</td>\n",
       "      <td>899.0</td>\n",
       "      <td>75.839996</td>\n",
       "      <td>54.759998</td>\n",
       "      <td>14.925</td>\n",
       "      <td>19.320000</td>\n",
       "      <td>12.635</td>\n",
       "      <td>30.080000</td>\n",
       "      <td>76.199997</td>\n",
       "      <td>507.200012</td>\n",
       "      <td>104.800003</td>\n",
       "      <td>9.878</td>\n",
       "      <td>36.200001</td>\n",
       "      <td>115.699997</td>\n",
       "      <td>NaN</td>\n",
       "      <td>119.449997</td>\n",
       "      <td>NaN</td>\n",
       "      <td>54.636120</td>\n",
       "    </tr>\n",
       "  </tbody>\n",
       "</table>\n",
       "</div>"
      ],
      "text/plain": [
       "                 AI.PA     AIR.PA  AM.PA     ATO.PA      BN.PA   CA.PA  \\\n",
       "Date                                                                     \n",
       "2020-12-29  135.850006  93.070000  907.5  75.760002  54.540001  14.345   \n",
       "2020-12-30  135.300003  91.250000  895.0  75.339996  54.240002  14.245   \n",
       "2020-12-31  134.250000  89.779999  897.0  74.779999  53.759998  14.030   \n",
       "2021-01-04  136.449997  89.889999  886.0  76.120003  54.400002  14.490   \n",
       "2021-01-05  134.850006  88.970001  899.0  75.839996  54.759998  14.925   \n",
       "\n",
       "                CS.PA  ENGI.PA     ENR.DE      HO.PA       MC.PA       ML.PA  \\\n",
       "Date                                                                           \n",
       "2020-12-29  19.736000   12.755  29.900000  76.320000  512.799988  106.300003   \n",
       "2020-12-30  19.676001   12.695  30.000000  75.440002  513.099976  106.050003   \n",
       "2020-12-31  19.511999   12.520        NaN  74.900002  510.899994  104.949997   \n",
       "2021-01-04  19.438000   12.805  30.129999  75.180000  512.099976  106.750000   \n",
       "2021-01-05  19.320000   12.635  30.080000  76.199997  507.200012  104.800003   \n",
       "\n",
       "            ORA.PA     RNO.PA      SAF.PA      SIEGY       SU.PA        TOT  \\\n",
       "Date                                                                          \n",
       "2020-12-29   9.826  36.255001  120.500000  71.760002  120.650002  42.512001   \n",
       "2020-12-30   9.804  35.945000  119.000000  71.779999  120.849998  42.669998   \n",
       "2020-12-31   9.734  35.759998  115.949997  71.790001  118.300003  41.910000   \n",
       "2021-01-04   9.950  35.759998  116.150002  71.820000  121.750000  42.380001   \n",
       "2021-01-05   9.878  36.200001  115.699997        NaN  119.449997        NaN   \n",
       "\n",
       "                CAC40  \n",
       "Date                   \n",
       "2020-12-29  55.234154  \n",
       "2020-12-30  55.112305  \n",
       "2020-12-31  54.639864  \n",
       "2021-01-04  55.009448  \n",
       "2021-01-05  54.636120  "
      ]
     },
     "execution_count": 3,
     "metadata": {},
     "output_type": "execute_result"
    }
   ],
   "source": [
    "ohlc = yf.download(tickers, period=period)\n",
    "prices = ohlc[\"Adj Close\"]\n",
    "prices[\"CAC40\"] = prices[\"^FCHI\"] / 101.6\n",
    "del prices[\"^FCHI\"]\n",
    "prices.tail()"
   ]
  },
  {
   "cell_type": "markdown",
   "metadata": {},
   "source": [
    "# Expected returns and risk models"
   ]
  },
  {
   "cell_type": "code",
   "execution_count": 4,
   "metadata": {},
   "outputs": [],
   "source": [
    "import pypfopt\n",
    "from pypfopt import risk_models, expected_returns\n",
    "from pypfopt import plotting\n",
    "\n"
   ]
  },
  {
   "cell_type": "code",
   "execution_count": 5,
   "metadata": {},
   "outputs": [],
   "source": [
    "mu = expected_returns.capm_return(prices)\n",
    "S = risk_models.semicovariance(prices)"
   ]
  },
  {
   "cell_type": "code",
   "execution_count": 6,
   "metadata": {},
   "outputs": [
    {
     "data": {
      "image/png": "[encoded data removed]",
      "text/plain": [
       "<Figure size 720x360 with 1 Axes>"
      ]
     },
     "metadata": {
      "needs_background": "light"
     },
     "output_type": "display_data"
    }
   ],
   "source": [
    "mu.plot.barh(figsize=(10,5));\n"
   ]
  },
  {
   "cell_type": "code",
   "execution_count": 7,
   "metadata": {},
   "outputs": [
    {
     "data": {
      "image/png": "[encoded data removed]",
      "text/plain": [
       "<Figure size 432x288 with 2 Axes>"
      ]
     },
     "metadata": {
      "needs_background": "light"
     },
     "output_type": "display_data"
    }
   ],
   "source": [
    "plotting.plot_covariance(S, plot_correlation=True);\n"
   ]
  },
  {
   "cell_type": "markdown",
   "metadata": {},
   "source": [
    "# Min volatility with a transaction cost objective\n"
   ]
  },
  {
   "cell_type": "code",
   "execution_count": 8,
   "metadata": {},
   "outputs": [],
   "source": [
    "#3 * prices.iloc[-2][\"ATO.PA\"] + \\ #ATOS SE\n",
    "#0*prices.iloc[-2][\"MC.PA\"] + \\#LVMH\n",
    "#6 * prices.iloc[-2][\"AIR.PA\"] + \\ #AIRBUS\n",
    "#6 * prices.iloc[-2][\"RNO.PA\"] +\\ #RENAULT\n",
    "#10* prices.iloc[-2][\"HO.PA\"] +\\ #THALES\n",
    "#20* prices.iloc[-2][\"ENGI.PA\"]+\\ #ENGIE\n",
    "#5 * prices.iloc[-2][\"CS.PA\"] +\\ #AXA\n",
    "#1 * prices.iloc[-2][\"ENR.DE\"]+\\ #SIEMENS ENERGY\n",
    "#4 * prices.iloc[-2][\"TOT\"]  + \\#TOTAL SE\n",
    "#25* prices.iloc[-2][\"CA.PA\"] +\\ #CARREFOUR\n",
    "#5 * prices.iloc[-2][\"SU.PA\"] +\\ #SCHNEIDER ELECTRIC SE\n",
    "#6 * prices.iloc[-2][\"BN.PA\"] +\\ #DANONE\n",
    "#3 * prices.iloc[-2][\"SIEGY\"] +\\ #SIEMENS AG\n",
    "#10* prices.iloc[-2][\"AI.PA\"] +\\ #AIR LIQUIDE\n",
    "#5 * prices.iloc[-2][\"ML.PA\"] +\\ #MICHELIN\n",
    "#1 * prices.iloc[-2][\"AM.PA\"] +\\ #DASSAULT AVIATION\n",
    "#25* prices.iloc[-2][\"ORA.PA\"] +\\ #ORANGE\n",
    "#20* prices.iloc[-2][\"CAC40\"] #CAC40\n",
    "\n",
    "PEA = 3 * prices.iloc[-2][\"ATO.PA\"] + 0*prices.iloc[-2][\"MC.PA\"] + 6 * prices.iloc[-2][\"AIR.PA\"] + 6 * prices.iloc[-2][\"RNO.PA\"] + 10* prices.iloc[-2][\"HO.PA\"] + 20* prices.iloc[-2][\"ENGI.PA\"]+ 5 * prices.iloc[-2][\"CS.PA\"] + 1 * prices.iloc[-2][\"ENR.DE\"]+ 4 * prices.iloc[-2][\"TOT\"]  + 25* prices.iloc[-2][\"CA.PA\"] + 5 * prices.iloc[-2][\"SU.PA\"] + 6 * prices.iloc[-2][\"BN.PA\"] + 3 * prices.iloc[-2][\"SIEGY\"] + 10* prices.iloc[-2][\"AI.PA\"] + 5 * prices.iloc[-2][\"ML.PA\"] + 1 * prices.iloc[-2][\"AM.PA\"] + 25* prices.iloc[-2][\"ORA.PA\"] + 20* prices.iloc[-2][\"CAC40\"] "
   ]
  },
  {
   "cell_type": "code",
   "execution_count": 9,
   "metadata": {},
   "outputs": [
    {
     "data": {
      "text/plain": [
       "[0.7787096401202643,\n",
       " 0.006370043696598125,\n",
       " 0.0,\n",
       " 0.015044750481829183,\n",
       " 0.005985095735133051,\n",
       " 0.020971267725277545,\n",
       " 0.007143843802395262,\n",
       " 0.002711090014826391,\n",
       " 0.0008404685772784219,\n",
       " 0.004728716919336356,\n",
       " 0.010104870421183316,\n",
       " 0.01698092468201787,\n",
       " 0.009104844306654031,\n",
       " 0.006010201259040771,\n",
       " 0.03806237570496376,\n",
       " 0.01488881897170766,\n",
       " 0.024714742124464614,\n",
       " 0.0069388171395163645,\n",
       " 0.030689488317513048]"
      ]
     },
     "execution_count": 9,
     "metadata": {},
     "output_type": "execute_result"
    }
   ],
   "source": [
    "# Pretend that you started with a default-weight allocation\n",
    "\n",
    "PEG = 27916\n",
    "\n",
    "initial_weights = {\n",
    "    \"SAF.PA\" : PEG/(PEA+PEG), \n",
    "    \"ATO.PA\" : 3 * prices.iloc[-2][\"ATO.PA\"] / (PEA+PEG), \n",
    "    \"MC.PA\"  :  0*   prices.iloc[-2][\"MC.PA\"] / (PEA+PEG), \n",
    "    \"AIR.PA\" : 6 * prices.iloc[-2][\"AIR.PA\"] / (PEA+PEG), \n",
    "    \"RNO.PA\" : 6 * prices.iloc[-2][\"RNO.PA\"] / (PEA+PEG), \n",
    "    \"HO.PA\"  : 10* prices.iloc[-2][\"HO.PA\"] / (PEA+PEG), \n",
    "    \"ENGI.PA\": 20* prices.iloc[-2][\"ENGI.PA\"] / (PEA+PEG), \n",
    "    \"CS.PA\"  : 5 * prices.iloc[-2][\"CS.PA\"] / (PEA+PEG), \n",
    "    \"ENR.DE\" : 1 * prices.iloc[-2][\"ENR.DE\"] / (PEA+PEG), \n",
    "    \"TOT\"    : 4 * prices.iloc[-2][\"TOT\"] / (PEA+PEG), \n",
    "    \"CA.PA\"  : 25* prices.iloc[-2][\"CA.PA\"] / (PEA+PEG), \n",
    "    \"SU.PA\"  : 5 * prices.iloc[-2][\"SU.PA\"] / (PEA+PEG), \n",
    "    \"BN.PA\"  : 6 * prices.iloc[-2][\"BN.PA\"] / (PEA+PEG), \n",
    "    \"SIEGY\"  : 3 * prices.iloc[-2][\"SIEGY\"] / (PEA+PEG), \n",
    "    \"AI.PA\"  : 10* prices.iloc[-2][\"AI.PA\"] / (PEA+PEG), \n",
    "    \"ML.PA\"  : 5 * prices.iloc[-2][\"ML.PA\"] / (PEA+PEG), \n",
    "    \"AM.PA\"  : 1 * prices.iloc[-2][\"AM.PA\"] / (PEA+PEG), \n",
    "    \"ORA.PA\" : 25* prices.iloc[-2][\"ORA.PA\"] / (PEA+PEG), \n",
    "    \"CAC40\"  : 20* prices.iloc[-2][\"CAC40\"] / (PEA+PEG)\n",
    "}\n",
    "\n",
    "initial_weights = [x for k,x in initial_weights.items()]\n",
    "initial_weights"
   ]
  },
  {
   "cell_type": "code",
   "execution_count": 10,
   "metadata": {},
   "outputs": [
    {
     "data": {
      "text/plain": [
       "OrderedDict([('AI.PA', 0.41886),\n",
       "             ('AIR.PA', 0.0),\n",
       "             ('AM.PA', 0.0),\n",
       "             ('ATO.PA', 0.01504),\n",
       "             ('BN.PA', 0.00599),\n",
       "             ('CA.PA', 0.02097),\n",
       "             ('CS.PA', 0.0),\n",
       "             ('ENGI.PA', 0.00271),\n",
       "             ('ENR.DE', 0.46482),\n",
       "             ('HO.PA', 0.00473),\n",
       "             ('MC.PA', 0.0101),\n",
       "             ('ML.PA', 0.01698),\n",
       "             ('ORA.PA', 0.0091),\n",
       "             ('RNO.PA', 0.0),\n",
       "             ('SAF.PA', 0.0),\n",
       "             ('SIEGY', 0.0),\n",
       "             ('SU.PA', 0.0),\n",
       "             ('TOT', 0.0),\n",
       "             ('CAC40', 0.03069)])"
      ]
     },
     "execution_count": 10,
     "metadata": {},
     "output_type": "execute_result"
    }
   ],
   "source": [
    "from pypfopt import EfficientFrontier, objective_functions\n",
    "\n",
    "ef = EfficientFrontier(mu, S)\n",
    "\n",
    "# 1% broker commission\n",
    "ef.add_objective(objective_functions.transaction_cost, w_prev=initial_weights, k=0.01)\n",
    "ef.min_volatility()\n",
    "weights = ef.clean_weights()\n",
    "weights\n"
   ]
  },
  {
   "cell_type": "markdown",
   "metadata": {},
   "source": [
    "comparaison avec un cout de transaction à 0.1%"
   ]
  },
  {
   "cell_type": "code",
   "execution_count": 11,
   "metadata": {},
   "outputs": [
    {
     "data": {
      "text/plain": [
       "OrderedDict([('AI.PA', 0.08985),\n",
       "             ('AIR.PA', 0.0),\n",
       "             ('AM.PA', 0.0),\n",
       "             ('ATO.PA', 0.0),\n",
       "             ('BN.PA', 0.00599),\n",
       "             ('CA.PA', 0.08715),\n",
       "             ('CS.PA', 0.0),\n",
       "             ('ENGI.PA', 0.0),\n",
       "             ('ENR.DE', 0.77541),\n",
       "             ('HO.PA', 0.00473),\n",
       "             ('MC.PA', 0.0101),\n",
       "             ('ML.PA', 0.01698),\n",
       "             ('ORA.PA', 0.00979),\n",
       "             ('RNO.PA', 0.0),\n",
       "             ('SAF.PA', 0.0),\n",
       "             ('SIEGY', 0.0),\n",
       "             ('SU.PA', 0.0),\n",
       "             ('TOT', 0.0),\n",
       "             ('CAC40', 0.0)])"
      ]
     },
     "execution_count": 11,
     "metadata": {},
     "output_type": "execute_result"
    }
   ],
   "source": [
    "\n",
    "ef = EfficientFrontier(mu, S)\n",
    "ef.add_objective(objective_functions.transaction_cost, w_prev=initial_weights, k=0.001)\n",
    "ef.min_volatility()\n",
    "weights = ef.clean_weights()\n",
    "weights"
   ]
  },
  {
   "cell_type": "markdown",
   "metadata": {},
   "source": [
    "ajout d'un régularisation L2 afin d'éviter que certains poids ne soient réduit à 0"
   ]
  },
  {
   "cell_type": "code",
   "execution_count": 12,
   "metadata": {},
   "outputs": [
    {
     "data": {
      "text/plain": [
       "OrderedDict([('AI.PA', 0.05889),\n",
       "             ('AIR.PA', 0.0359),\n",
       "             ('AM.PA', 0.05079),\n",
       "             ('ATO.PA', 0.05511),\n",
       "             ('BN.PA', 0.06268),\n",
       "             ('CA.PA', 0.0611),\n",
       "             ('CS.PA', 0.04857),\n",
       "             ('ENGI.PA', 0.05185),\n",
       "             ('ENR.DE', 0.0779),\n",
       "             ('HO.PA', 0.05216),\n",
       "             ('MC.PA', 0.05584),\n",
       "             ('ML.PA', 0.05357),\n",
       "             ('ORA.PA', 0.06079),\n",
       "             ('RNO.PA', 0.03446),\n",
       "             ('SAF.PA', 0.03801),\n",
       "             ('SIEGY', 0.05071),\n",
       "             ('SU.PA', 0.05245),\n",
       "             ('TOT', 0.04606),\n",
       "             ('CAC40', 0.05316)])"
      ]
     },
     "execution_count": 12,
     "metadata": {},
     "output_type": "execute_result"
    }
   ],
   "source": [
    "\n",
    "ef = EfficientFrontier(mu, S)\n",
    "ef.add_objective(objective_functions.transaction_cost, w_prev=initial_weights, k=0.001)\n",
    "ef.add_objective(objective_functions.L2_reg)\n",
    "ef.min_volatility()\n",
    "weights = ef.clean_weights()\n",
    "weights"
   ]
  },
  {
   "cell_type": "markdown",
   "metadata": {},
   "source": [
    "Pour réduire l'effet de la régularisation il est possible de réduire le gamma"
   ]
  },
  {
   "cell_type": "code",
   "execution_count": 13,
   "metadata": {},
   "outputs": [
    {
     "data": {
      "text/plain": [
       "OrderedDict([('AI.PA', 0.23339),\n",
       "             ('AIR.PA', 0.00637),\n",
       "             ('AM.PA', 0.00053),\n",
       "             ('ATO.PA', 0.01593),\n",
       "             ('BN.PA', 0.09562),\n",
       "             ('CA.PA', 0.08689),\n",
       "             ('CS.PA', 0.00714),\n",
       "             ('ENGI.PA', 0.00271),\n",
       "             ('ENR.DE', 0.29218),\n",
       "             ('HO.PA', 0.01757),\n",
       "             ('MC.PA', 0.03615),\n",
       "             ('ML.PA', 0.01852),\n",
       "             ('ORA.PA', 0.08224),\n",
       "             ('RNO.PA', 0.0),\n",
       "             ('SAF.PA', 0.02753),\n",
       "             ('SIEGY', 0.01489),\n",
       "             ('SU.PA', 0.02471),\n",
       "             ('TOT', 0.00694),\n",
       "             ('CAC40', 0.03069)])"
      ]
     },
     "execution_count": 13,
     "metadata": {},
     "output_type": "execute_result"
    }
   ],
   "source": [
    "ef = EfficientFrontier(mu, S)\n",
    "ef.add_objective(objective_functions.transaction_cost, w_prev=initial_weights, k=0.01)\n",
    "ef.add_objective(objective_functions.L2_reg, gamma=0.05)  # default is 1\n",
    "ef.min_volatility()\n",
    "weights = ef.clean_weights()\n",
    "weights"
   ]
  },
  {
   "cell_type": "code",
   "execution_count": 14,
   "metadata": {},
   "outputs": [
    {
     "name": "stdout",
     "output_type": "stream",
     "text": [
      "Expected annual return: 7.8%\n",
      "Annual volatility: 10.6%\n",
      "Sharpe Ratio: 0.55\n"
     ]
    }
   ],
   "source": [
    "ef.portfolio_performance(verbose=True);\n"
   ]
  },
  {
   "cell_type": "code",
   "execution_count": 15,
   "metadata": {},
   "outputs": [
    {
     "data": {
      "image/png": "[encoded data removed]",
      "text/plain": [
       "<Figure size 720x720 with 1 Axes>"
      ]
     },
     "metadata": {},
     "output_type": "display_data"
    }
   ],
   "source": [
    "pd.Series(weights).plot.pie(figsize=(10,10));\n"
   ]
  },
  {
   "cell_type": "markdown",
   "metadata": {},
   "source": [
    "# Custom convex objectives\n"
   ]
  },
  {
   "cell_type": "code",
   "execution_count": 16,
   "metadata": {},
   "outputs": [],
   "source": [
    "import cvxpy as cp\n",
    "\n",
    "# Note: functions are minimised. If you want to maximise an objective, stick a minus sign in it.\n",
    "def logarithmic_barrier_objective(w, cov_matrix, k=0.1):\n",
    "    log_sum = cp.sum(cp.log(w))\n",
    "    var = cp.quad_form(w, cov_matrix)\n",
    "    return var - k * log_sum"
   ]
  },
  {
   "cell_type": "code",
   "execution_count": 17,
   "metadata": {},
   "outputs": [
    {
     "data": {
      "text/plain": [
       "OrderedDict([('AI.PA', 0.05899),\n",
       "             ('AIR.PA', 0.02017),\n",
       "             ('AM.PA', 0.03662),\n",
       "             ('ATO.PA', 0.04582),\n",
       "             ('BN.PA', 0.09292),\n",
       "             ('CA.PA', 0.07905),\n",
       "             ('CS.PA', 0.03211),\n",
       "             ('ENGI.PA', 0.03727),\n",
       "             ('ENR.DE', 0.2),\n",
       "             ('HO.PA', 0.04042),\n",
       "             ('MC.PA', 0.05097),\n",
       "             ('ML.PA', 0.04264),\n",
       "             ('ORA.PA', 0.07649),\n",
       "             ('RNO.PA', 0.01858),\n",
       "             ('SAF.PA', 0.02104),\n",
       "             ('SIEGY', 0.03679),\n",
       "             ('SU.PA', 0.0393),\n",
       "             ('TOT', 0.02934),\n",
       "             ('CAC40', 0.04149)])"
      ]
     },
     "execution_count": 17,
     "metadata": {},
     "output_type": "execute_result"
    }
   ],
   "source": [
    "ef = EfficientFrontier(mu, S, weight_bounds=(0.01, 0.2))\n",
    "ef.convex_objective(logarithmic_barrier_objective, cov_matrix=S, k=0.001)\n",
    "weights = ef.clean_weights()\n",
    "weights"
   ]
  },
  {
   "cell_type": "code",
   "execution_count": 18,
   "metadata": {},
   "outputs": [
    {
     "name": "stdout",
     "output_type": "stream",
     "text": [
      "Expected annual return: 8.9%\n",
      "Annual volatility: 12.8%\n",
      "Sharpe Ratio: 0.54\n"
     ]
    }
   ],
   "source": [
    "ef.portfolio_performance(verbose=True);\n"
   ]
  },
  {
   "cell_type": "code",
   "execution_count": 19,
   "metadata": {},
   "outputs": [
    {
     "data": {
      "text/plain": [
       "OrderedDict([('AI.PA', 0.04051),\n",
       "             ('AIR.PA', 0.01971),\n",
       "             ('AM.PA', 0.03068),\n",
       "             ('ATO.PA', 0.03484),\n",
       "             ('BN.PA', 0.05181),\n",
       "             ('CA.PA', 0.05007),\n",
       "             ('CS.PA', 0.02777),\n",
       "             ('ENGI.PA', 0.03115),\n",
       "             ('ENR.DE', 0.40185),\n",
       "             ('HO.PA', 0.03227),\n",
       "             ('MC.PA', 0.03767),\n",
       "             ('ML.PA', 0.03403),\n",
       "             ('ORA.PA', 0.04749),\n",
       "             ('RNO.PA', 0.01863),\n",
       "             ('SAF.PA', 0.02042),\n",
       "             ('SIEGY', 0.02994),\n",
       "             ('SU.PA', 0.03218),\n",
       "             ('TOT', 0.0258),\n",
       "             ('CAC40', 0.03318)])"
      ]
     },
     "execution_count": 19,
     "metadata": {},
     "output_type": "execute_result"
    }
   ],
   "source": [
    "ef = EfficientFrontier(mu, S, weight_bounds=(0.01, 0.9))\n",
    "\n",
    "#SAF_index = ef.tickers.index(\"SAF.PA\")  # get the index of TOTAL\n",
    "#ef.add_constraint(lambda w: w[SAF_index] >= 0.7787096401202643)\n",
    "\n",
    "ef.convex_objective(logarithmic_barrier_objective, cov_matrix=S, k=0.001)\n",
    "weights = ef.clean_weights()\n",
    "weights"
   ]
  },
  {
   "cell_type": "code",
   "execution_count": 20,
   "metadata": {},
   "outputs": [
    {
     "name": "stdout",
     "output_type": "stream",
     "text": [
      "Expected annual return: 8.6%\n",
      "Annual volatility: 10.4%\n",
      "Sharpe Ratio: 0.63\n"
     ]
    }
   ],
   "source": [
    "ef.portfolio_performance(verbose=True);\n"
   ]
  },
  {
   "cell_type": "code",
   "execution_count": 21,
   "metadata": {},
   "outputs": [
    {
     "data": {
      "text/plain": [
       "OrderedDict([('AI.PA', 0.04051),\n",
       "             ('AIR.PA', 0.01971),\n",
       "             ('AM.PA', 0.03068),\n",
       "             ('ATO.PA', 0.03484),\n",
       "             ('BN.PA', 0.05181),\n",
       "             ('CA.PA', 0.05007),\n",
       "             ('CS.PA', 0.02777),\n",
       "             ('ENGI.PA', 0.03115),\n",
       "             ('ENR.DE', 0.40185),\n",
       "             ('HO.PA', 0.03227),\n",
       "             ('MC.PA', 0.03767),\n",
       "             ('ML.PA', 0.03403),\n",
       "             ('ORA.PA', 0.04749),\n",
       "             ('RNO.PA', 0.01863),\n",
       "             ('SAF.PA', 0.02042),\n",
       "             ('SIEGY', 0.02994),\n",
       "             ('SU.PA', 0.03218),\n",
       "             ('TOT', 0.0258),\n",
       "             ('CAC40', 0.03318)])"
      ]
     },
     "execution_count": 21,
     "metadata": {},
     "output_type": "execute_result"
    }
   ],
   "source": [
    "weights"
   ]
  },
  {
   "cell_type": "code",
   "execution_count": null,
   "metadata": {},
   "outputs": [],
   "source": [
    "from pypfopt import DiscreteAllocation\n",
    "\n",
    "da = DiscreteAllocation(weights, prices.iloc[-2], total_portfolio_value=1200)\n",
    "alloc, leftover = da.lp_portfolio()\n",
    "print(f\"Leftover: ${leftover:.2f}\")\n",
    "alloc"
   ]
  },
  {
   "cell_type": "code",
   "execution_count": 1,
   "metadata": {},
   "outputs": [
    {
     "ename": "NameError",
     "evalue": "name 'alloc' is not defined",
     "output_type": "error",
     "traceback": [
      "\u001b[1;31m---------------------------------------------------------------------------\u001b[0m",
      "\u001b[1;31mNameError\u001b[0m                                 Traceback (most recent call last)",
      "\u001b[1;32m<ipython-input-1-87735d1a90ad>\u001b[0m in \u001b[0;36m<module>\u001b[1;34m\u001b[0m\n\u001b[1;32m----> 1\u001b[1;33m \u001b[0malloc\u001b[0m\u001b[1;33m\u001b[0m\u001b[1;33m\u001b[0m\u001b[0m\n\u001b[0m",
      "\u001b[1;31mNameError\u001b[0m: name 'alloc' is not defined"
     ]
    }
   ],
   "source": [
    "alloc"
   ]
  },
  {
   "cell_type": "code",
   "execution_count": null,
   "metadata": {},
   "outputs": [],
   "source": []
  }
 ],
 "metadata": {
  "kernelspec": {
   "display_name": "Python 3",
   "language": "python",
   "name": "python3"
  },
  "language_info": {
   "codemirror_mode": {
    "name": "ipython",
    "version": 3
   },
   "file_extension": ".py",
   "mimetype": "text/x-python",
   "name": "python",
   "nbconvert_exporter": "python",
   "pygments_lexer": "ipython3",
   "version": "3.7.8"
  }
 },
 "nbformat": 4,
 "nbformat_minor": 4
}
